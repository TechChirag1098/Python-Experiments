class Product: 
  def __init__(self, name, price, stock): 
    self.name: str = name 
    self.price: float = price 
    self.stock: int = stock 
def update_stock(self, quantity): 
    self.stock += quantity 
def __str__(self): 
    return f"Product: {self.name}, Price: ${self.price:.2f}, Stock: {self.stock}" 
# Dictionary to store products 
products = {} 
while True: 
    print("MENU\n1. Add Product\n2. Update Stock\n3. View Product Details\n4. Exit  System") 
    choice = input("Enter your choice: ") 
    if choice == '1': 
        name = input("Enter product name: ") 
        price = float(input("Enter product price: ")) 
        stock = int(input("Enter product stock: ")) 
        products[name] = Product(name, price, stock) 
        print("Product added successfully!") 
    elif choice == '2': 
        name = input("Enter product name to update: ") 
    if name in products: 
        quantity = int(input("Enter quantity to add/remove (positive to add, negative to  remove): ")) 
        products[name].update_stock(quantity) print("Stock updated successfully!") 
    else: 
        print("Product not found.") 
    if choice == '3': 
        name = input("Enter product name: ") if name in products: 
        print(products[name]) 
    else: 
        print("Product not found.") 
    if choice == '4': 
        print("Exiting the system. Goodbye!") 
        break 
    else: 
        print("Invalid choice. Please try again.") 
