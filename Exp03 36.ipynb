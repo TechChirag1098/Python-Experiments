{
  "nbformat": 4,
  "nbformat_minor": 0,
  "metadata": {
    "colab": {
      "provenance": []
    },
    "kernelspec": {
      "name": "python3",
      "display_name": "Python 3"
    },
    "language_info": {
      "name": "python"
    }
  },
  "cells": [
    {
      "cell_type": "code",
      "execution_count": 1,
      "metadata": {
        "colab": {
          "base_uri": "https://localhost:8080/",
          "height": 105
        },
        "id": "C0E3TI9KWrws",
        "outputId": "9f926d5c-2753-48c5-f188-dd2f63a058a6"
      },
      "outputs": [
        {
          "output_type": "execute_result",
          "data": {
            "text/plain": [
              "'\\nGiven a string \\'s\\' consisting of only the characters \\'a\\' and \\'b\\', return true if every \\'a\\' appears before every \\'b\\' in the string.\\nOtherwise, return false.\\n\\nExample 1:\\nInput: s = \"aaabbb\"\\nOutput: true\\nExplanation:\\nThe \\'a\\'s are at indices 0, 1, and 2, while the \\'b\\'s are at indices 3, 4, and 5.\\nHence, every \\'a\\' appears before every \\'b\\' and we return true.\\n\\nExample 2:\\nInput: s = \"abab\"\\nOutput: false\\nExplanation:\\nThere is an \\'a\\' at index 2 and a \\'b\\' at index 1.\\nHence, not every \\'a\\' appears before every \\'b\\' and we return false.\\n\\nExample 3:\\nInput: s = \"bbb\"\\nOutput: true\\nExplanation:\\nThere are no \\'a\\'s, hence, every \\'a\\' appears before every \\'b\\' and we return true.\\n'"
            ],
            "application/vnd.google.colaboratory.intrinsic+json": {
              "type": "string"
            }
          },
          "metadata": {},
          "execution_count": 1
        }
      ],
      "source": [
        "'''\n",
        "Given a string 's' consisting of only the characters 'a' and 'b', return true if every 'a' appears before every 'b' in the string.\n",
        "Otherwise, return false.\n",
        "\n",
        "Example 1:\n",
        "Input: s = \"aaabbb\"\n",
        "Output: true\n",
        "Explanation:\n",
        "The 'a's are at indices 0, 1, and 2, while the 'b's are at indices 3, 4, and 5.\n",
        "Hence, every 'a' appears before every 'b' and we return true.\n",
        "\n",
        "Example 2:\n",
        "Input: s = \"abab\"\n",
        "Output: false\n",
        "Explanation:\n",
        "There is an 'a' at index 2 and a 'b' at index 1.\n",
        "Hence, not every 'a' appears before every 'b' and we return false.\n",
        "\n",
        "Example 3:\n",
        "Input: s = \"bbb\"\n",
        "Output: true\n",
        "Explanation:\n",
        "There are no 'a's, hence, every 'a' appears before every 'b' and we return true.\n",
        "'''"
      ]
    },
    {
      "cell_type": "code",
      "source": [
        "\n",
        "def find_a(s):\n",
        "    for i in range(len(s)):\n",
        "        if s[i] == 'a':\n",
        "            a_index = i\n",
        "        else: pass\n",
        "    return a_index\n",
        "\n",
        "\n",
        "def checkString (s : str) -> bool:\n",
        "    if len(s) == 0:\n",
        "        return True\n",
        "    else:\n",
        "        if 'a' not in s:\n",
        "            return True\n",
        "        elif 'b' not in s:\n",
        "            return False\n",
        "        a_index = find_a(s)\n",
        "        if a_index < s.index('b'):\n",
        "            return True\n",
        "        else:\n",
        "            return False\n",
        "\n",
        "checkString(\"aababb\")\n",
        "checkString(\"bbb\")"
      ],
      "metadata": {
        "colab": {
          "base_uri": "https://localhost:8080/"
        },
        "id": "xCeucX2zW5qs",
        "outputId": "bf9dea38-3aba-462b-9302-8c7e4572653d"
      },
      "execution_count": 7,
      "outputs": [
        {
          "output_type": "execute_result",
          "data": {
            "text/plain": [
              "True"
            ]
          },
          "metadata": {},
          "execution_count": 7
        }
      ]
    },
    {
      "cell_type": "code",
      "source": [],
      "metadata": {
        "id": "qP_4b_98dISN"
      },
      "execution_count": null,
      "outputs": []
    }
  ]
}