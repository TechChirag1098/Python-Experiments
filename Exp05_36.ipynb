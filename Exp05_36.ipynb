{
  "nbformat": 4,
  "nbformat_minor": 0,
  "metadata": {
    "colab": {
      "provenance": []
    },
    "kernelspec": {
      "name": "python3",
      "display_name": "Python 3"
    },
    "language_info": {
      "name": "python"
    }
  },
  "cells": [
    {
      "cell_type": "code",
      "source": [
        "# Chirag Shrivastav - 36\n",
        "def maxNestingDepth(stringInput: str) -> int:\n",
        "    max_depth = 0\n",
        "    current_depth = 0\n",
        "\n",
        "    for char in stringInput:\n",
        "        if char == '(':\n",
        "            current_depth += 1\n",
        "            max_depth = max(max_depth, current_depth)\n",
        "        elif char == ')':\n",
        "            current_depth -= 1\n",
        "\n",
        "    return max_depth\n",
        "stringInput = \"()(())((()()))\"\n",
        "print(maxNestingDepth(stringInput))  # Output: 3\n"
      ],
      "metadata": {
        "colab": {
          "base_uri": "https://localhost:8080/"
        },
        "id": "i2AjZmHNKZrT",
        "outputId": "ea3a9b69-8e54-4943-9970-f8244186306c"
      },
      "execution_count": 7,
      "outputs": [
        {
          "output_type": "stream",
          "name": "stdout",
          "text": [
            "3\n"
          ]
        }
      ]
    }
  ]
}